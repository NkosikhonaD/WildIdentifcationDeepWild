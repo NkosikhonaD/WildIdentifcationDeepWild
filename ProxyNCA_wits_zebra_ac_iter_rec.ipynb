{
  "nbformat": 4,
  "nbformat_minor": 0,
  "metadata": {
    "accelerator": "GPU",
    "colab": {
      "name": "ProxyNCA_wits_zebra_ac_iter_rec.ipynb",
      "provenance": [],
      "collapsed_sections": [],
      "include_colab_link": true
    },
    "kernelspec": {
      "display_name": "Python 3",
      "name": "python3"
    }
  },
  "cells": [
    {
      "cell_type": "markdown",
      "metadata": {
        "id": "view-in-github",
        "colab_type": "text"
      },
      "source": [
        "<a href=\"https://colab.research.google.com/github/NkosikhonaD/WildIdentifcationDeepWild/blob/main/ProxyNCA_wits_zebra_ac_iter_rec.ipynb\" target=\"_parent\"><img src=\"https://colab.research.google.com/assets/colab-badge.svg\" alt=\"Open In Colab\"/></a>"
      ]
    },
    {
      "cell_type": "code",
      "metadata": {
        "colab": {
          "base_uri": "https://localhost:8080/"
        },
        "id": "qPh2hCP5eg7y",
        "outputId": "203d7e95-c925-4c7f-d3d6-c8ecbd48b5b0"
      },
      "source": [
        "!pip install pytorch-metric-learning\n",
        "!pip install faiss-gpu"
      ],
      "execution_count": null,
      "outputs": [
        {
          "output_type": "stream",
          "text": [
            "Requirement already satisfied: pytorch-metric-learning in /usr/local/lib/python3.7/dist-packages (0.9.98)\n",
            "Requirement already satisfied: torchvision in /usr/local/lib/python3.7/dist-packages (from pytorch-metric-learning) (0.9.1+cu101)\n",
            "Requirement already satisfied: torch>=1.6.0 in /usr/local/lib/python3.7/dist-packages (from pytorch-metric-learning) (1.8.1+cu101)\n",
            "Requirement already satisfied: numpy in /usr/local/lib/python3.7/dist-packages (from pytorch-metric-learning) (1.19.5)\n",
            "Requirement already satisfied: scikit-learn in /usr/local/lib/python3.7/dist-packages (from pytorch-metric-learning) (0.22.2.post1)\n",
            "Requirement already satisfied: tqdm in /usr/local/lib/python3.7/dist-packages (from pytorch-metric-learning) (4.41.1)\n",
            "Requirement already satisfied: pillow>=4.1.1 in /usr/local/lib/python3.7/dist-packages (from torchvision->pytorch-metric-learning) (7.1.2)\n",
            "Requirement already satisfied: typing-extensions in /usr/local/lib/python3.7/dist-packages (from torch>=1.6.0->pytorch-metric-learning) (3.7.4.3)\n",
            "Requirement already satisfied: scipy>=0.17.0 in /usr/local/lib/python3.7/dist-packages (from scikit-learn->pytorch-metric-learning) (1.4.1)\n",
            "Requirement already satisfied: joblib>=0.11 in /usr/local/lib/python3.7/dist-packages (from scikit-learn->pytorch-metric-learning) (1.0.1)\n",
            "Requirement already satisfied: faiss-gpu in /usr/local/lib/python3.7/dist-packages (1.7.0)\n"
          ],
          "name": "stdout"
        }
      ]
    },
    {
      "cell_type": "code",
      "metadata": {
        "id": "9vLz2TiFem1V"
      },
      "source": [
        "from pytorch_metric_learning import losses, miners, reducers, distances, testers\n",
        "from pytorch_metric_learning.utils.accuracy_calculator import AccuracyCalculator"
      ],
      "execution_count": null,
      "outputs": []
    },
    {
      "cell_type": "code",
      "metadata": {
        "id": "DodJjz5WRrx_"
      },
      "source": [
        "\n",
        "#------------------------------imports EmbeddingNet------------------#\n",
        "import torch \n",
        "import torch.nn as nn\n",
        "import torchvision.models as models\n",
        "from torch.optim import Adam\n",
        "import torchvision\n",
        "\n",
        "import numpy as np\n",
        "from numpy import mean\n",
        "import torchvision.transforms as transforms\n",
        "#------------------------------imports Sampler-----------------------#\n",
        "from torch.utils.data.sampler import Sampler\n",
        "from collections import defaultdict\n",
        "import random\n",
        "import torch.nn.functional as F\n",
        "\n",
        "#------------------------------imports Dataset-----------------------#\n",
        "from PIL import Image\n",
        "import PIL.ImageOps\n",
        "\n",
        "from torchvision.datasets import ImageFolder\n",
        "from torch.utils.data import DataLoader\n",
        "\n",
        "import torchvision.datasets as dset\n",
        "\n",
        "from torch.utils.data import Dataset\n",
        "\n",
        "import os\n",
        "import matplotlib.pyplot as plt\n",
        "import numpy as np\n"
      ],
      "execution_count": null,
      "outputs": []
    },
    {
      "cell_type": "code",
      "metadata": {
        "colab": {
          "base_uri": "https://localhost:8080/"
        },
        "id": "fzyQOcofS2d6",
        "outputId": "2b775d8f-1010-4610-963c-69811fa50276"
      },
      "source": [
        "from google.colab import drive\n",
        "drive.mount('/content/drive')"
      ],
      "execution_count": null,
      "outputs": [
        {
          "output_type": "stream",
          "text": [
            "Drive already mounted at /content/drive; to attempt to forcibly remount, call drive.mount(\"/content/drive\", force_remount=True).\n"
          ],
          "name": "stdout"
        }
      ]
    },
    {
      "cell_type": "code",
      "metadata": {
        "id": "KKbWVD-gUWsZ",
        "colab": {
          "base_uri": "https://localhost:8080/"
        },
        "outputId": "18c0a431-bae5-4ac8-e1be-2d98a994bd70"
      },
      "source": [
        "animal_root = \"/content/drive/MyDrive/Zebra_img/\"\n",
        "root_train = animal_root+\"train\"\n",
        "root_test = animal_root+\"val\"\n",
        "!ls \"/content/drive/MyDrive/Zebra_img/\"\n"
      ],
      "execution_count": null,
      "outputs": [
        {
          "output_type": "stream",
          "text": [
            "name_rename.csv  train\tval\n"
          ],
          "name": "stdout"
        }
      ]
    },
    {
      "cell_type": "code",
      "metadata": {
        "id": "vNG6Epbm1RFM"
      },
      "source": [
        "def set_parameter_requires_grad(model,feature_extrating):\n",
        "  if feature_extrating:\n",
        "    for param in model.parameters():\n",
        "      param.requires_grad=False"
      ],
      "execution_count": null,
      "outputs": []
    },
    {
      "cell_type": "code",
      "metadata": {
        "id": "LOSDfy8dyGNX"
      },
      "source": [
        "def initialize_model(model_name,num_classes,feature_extrating,use_pretrained= True):\n",
        "  model_ft=None\n",
        "  if model_name==\"resnet18\":\n",
        "    model_ft= models.resnet18(pretrained=use_pretrained)\n",
        "    set_parameter_requires_grad(model_ft,feature_extrating)\n",
        "    num_ftrs = model_ft.fc.in_features\n",
        "    model_ft.fc = nn.Linear(num_ftrs,num_classes)\n",
        "\n",
        "  if model_name==\"resnet34\":\n",
        "    model_ft= models.resnet34(pretrained=use_pretrained)\n",
        "    set_parameter_requires_grad(model_ft,feature_extrating)\n",
        "    num_ftrs = model_ft.fc.in_features\n",
        "    model_ft.fc = nn.Linear(num_ftrs,num_classes)\n",
        "\n",
        "  if model_name==\"resnet50\":\n",
        "    model_ft= models.resnet50(pretrained=use_pretrained)\n",
        "    set_parameter_requires_grad(model_ft,feature_extrating)\n",
        "    num_ftrs = model_ft.fc.in_features\n",
        "    model_ft.fc = nn.Linear(num_ftrs,num_classes)\n",
        "  \n",
        "  if model_name==\"resnet101\":\n",
        "    model_ft= models.resnet101(pretrained=use_pretrained)\n",
        "    set_parameter_requires_grad(model_ft,feature_extrating)\n",
        "    num_ftrs = model_ft.fc.in_features\n",
        "    model_ft.fc = nn.Linear(num_ftrs,num_classes)\n",
        "    \n",
        "  if model_name==\"resnet152\":\n",
        "    model_ft= models.resnet152(pretrained=use_pretrained)\n",
        "    set_parameter_requires_grad(model_ft,feature_extrating)\n",
        "    num_ftrs = model_ft.fc.in_features\n",
        "    model_ft.fc = nn.Linear(num_ftrs,num_classes)\n",
        "  if model_name ==\"VGG19\":\n",
        "    model_ft= models.vgg19(pretrained=use_pretrained)\n",
        "    set_parameter_requires_grad(model_ft,feature_extrating)\n",
        "    num_ftrs= model_ft.classifier[6].in_features\n",
        "    model_ft.classifier[6] = nn.Linear(num_ftrs,num_classes)\n",
        "  if model_name ==\"VGG11\":\n",
        "    model_ft= models.vgg11(pretrained=use_pretrained)\n",
        "    set_parameter_requires_grad(model_ft,feature_extrating)\n",
        "    num_ftrs= model_ft.classifier[6].in_features\n",
        "    model_ft.classifier[6] = nn.Linear(num_ftrs,num_classes)\n",
        "  \n",
        "  if model_name ==\"densenet121\":\n",
        "    model_ft= models.densenet121(pretrained=use_pretrained)\n",
        "    set_parameter_requires_grad(model_ft,feature_extrating)\n",
        "    num_ftrs= model_ft.classifier.in_features\n",
        "    model_ft.classifier = nn.Linear(num_ftrs,num_classes)\n",
        "  if model_name ==\"densenet201\":\n",
        "    model_ft= models.densenet201(pretrained=use_pretrained)\n",
        "    set_parameter_requires_grad(model_ft,feature_extrating)\n",
        "    num_ftrs= model_ft.classifier.in_features\n",
        "    model_ft.classifier = nn.Linear(num_ftrs,num_classes)\n",
        "  return model_ft\n",
        "  \n",
        "  "
      ],
      "execution_count": null,
      "outputs": []
    },
    {
      "cell_type": "code",
      "metadata": {
        "id": "D5pH9uxOZ1Zf"
      },
      "source": [
        "class EmbeddingNet(nn.Module):\n",
        "  def __init__(self,model_name,num_classes,feature_extrating,use_pretrained):\n",
        "    super(EmbeddingNet,self).__init__()\n",
        "    self.backbone = model_name\n",
        "    if model_name is None:\n",
        "      #initialize_model(model_name,num_classes = 128,feature_extract,use_pretrained= True)\n",
        "      self.backbone = models.resnet18(num_classes=128)\n",
        "    else:\n",
        "        self.backbone =initialize_model(model_name,num_classes,feature_extrating,use_pretrained)\n",
        "    #self.backbone = backbone\n",
        "  def forward(self,x):\n",
        "    x=self.backbone(x)\n",
        "    x= nn.functional.normalize(x,dim=1)\n",
        "    return x\n"
      ],
      "execution_count": null,
      "outputs": []
    },
    {
      "cell_type": "code",
      "metadata": {
        "id": "NVinsN95iqLx"
      },
      "source": [
        "def show_plot_two(x_axis_array1,y_axis_array1,y_axis_array2,graph_1_lab=\"gr1\",graph_2_lab=\"gr2\",title=\"set title\",x_label=\"epoch\",y_label=\"loss\"):\n",
        "  \n",
        "  if len(x_axis_array1)!= len(y_axis_array1):\n",
        "    ly1 =min(len(x_axis_array1),len(y_axis_array1))\n",
        "    ly2 =min(len(x_axis_array1),len(y_axis_array2))\n",
        "    \n",
        "    plt.plot(x_axis_array1[:ly1],y_axis_array1[:ly1],label=graph_1_lab)\n",
        "    plt.plot(x_axis_array1[:ly2],y_axis_array2[:ly2],label=graph_2_lab)\n",
        "  else:\n",
        "    plt.plot(x_axis_array1,y_axis_array1,label=graph_1_lab)\n",
        "    plt.plot(x_axis_array1,y_axis_array2,label=graph_2_lab)\n",
        "\n",
        "  plt.xlabel(x_label)\n",
        "  plt.ylabel(y_label)   \n",
        "  plt.title(title)\n",
        "  plt.legend(loc='upper right')\n",
        "  plt.show()"
      ],
      "execution_count": null,
      "outputs": []
    },
    {
      "cell_type": "code",
      "metadata": {
        "id": "-ANJynxPSo2u"
      },
      "source": [
        "def show_plot(x_axis_array,y_axis_array, title=\"set title\",x_label=\"set_xlabes\",y_label=\"set_ylabels\"):\n",
        "  plt.plot(x_axis_array,y_axis_array)\n",
        "  plt.xlabel(x_label)\n",
        "  plt.ylabel(y_label)\n",
        "  plt.title(title)\n",
        "  plt.legend(loc='upper right')\n",
        "  plt.show()"
      ],
      "execution_count": null,
      "outputs": []
    },
    {
      "cell_type": "code",
      "metadata": {
        "id": "GR6xu2PnKaaW"
      },
      "source": [
        "class OnlineTripletDataset(Dataset):\n",
        "  def __init__(self,imageFolderDataset,transform=None,should_invert=True):\n",
        "    self.imageFolderDataset = imageFolderDataset\n",
        "    self.should_invert= should_invert\n",
        "    self.transform = transform\n",
        "    #self.targets = [img[1] for img in self.imageFolderDataset.imgs]\n",
        "    self.targets = [name[1] for name in self.imageFolderDataset.imgs]\n",
        "    self.targets = list(set(self.targets))\n",
        "  def __getitem__(self,index):\n",
        "    img0_tuple = random.choice(self.imageFolderDataset.imgs)\n",
        "    img0 = Image.open(img0_tuple[0])\n",
        "    target = img0_tuple[1]\n",
        "\n",
        "    if self.should_invert:\n",
        "      img0=PIL.ImageOps.invert(img0)\n",
        "    if self.transform is not None:\n",
        "      img0=self.transform(img0)\n",
        "    return img0, torch.from_numpy(np.array([int(target)],dtype=np.float32))\n",
        "  def __len__(self):\n",
        "    return (len(self.imageFolderDataset.imgs))\n"
      ],
      "execution_count": null,
      "outputs": []
    },
    {
      "cell_type": "code",
      "metadata": {
        "id": "dv75g9oX3BIH"
      },
      "source": [
        "accuracy_list = []\n",
        "embeds = []\n",
        "labels= []\n",
        "train_loss = []\n",
        "test_loss = []\n",
        "epoch_iterator = []\n",
        "test_iterator = []\n",
        "dists = None\n",
        "targets = None"
      ],
      "execution_count": null,
      "outputs": []
    },
    {
      "cell_type": "code",
      "metadata": {
        "id": "b2aqPmp_iPLy"
      },
      "source": [
        "def train_epoch(model,optimizer,loss_optimizer,criterion,data_loader,device,epoch,print_freq):\n",
        "  model.train()\n",
        "  running_loss = 0;\n",
        "  running_frac_pos_triplets= 0\n",
        "  epoch_iterator.append(epoch)\n",
        "  for i, data in enumerate(data_loader):\n",
        "    optimizer.zero_grad()\n",
        "    samples, targets = data[0].to(device),data[1].to(device)\n",
        "    embeddings = model(samples)\n",
        "    #loss,frac_pos_triplets = criterion(embeddings,targets)\n",
        "    targets = torch.flatten(targets)\n",
        "    loss = criterion(embeddings,targets)\n",
        "    loss.backward()\n",
        "    optimizer.step()\n",
        "    loss_optimizer.step()\n",
        "    running_loss +=loss.item()\n",
        "\n",
        "    #running_frac_pos_triplets+=float(frac_pos_triplets)\n",
        "\n",
        "    if i%print_freq ==print_freq-1:\n",
        "      i+=1\n",
        "      avg_loss = running_loss/print_freq\n",
        "      train_loss.append(avg_loss)\n",
        "      \n",
        "      #avg_trip =100.0*running_frac_pos_triplets/print_freq\n",
        "      #print('[{:d}, {:d}] | loss: {:.4f} | % avg hard triplets: {:.2f}%'.format(epoch, i, avg_loss, avg_trip))\n",
        "      print('[{:d}, {:d}] | loss: {:.4f}'.format(epoch, i, avg_loss))\n",
        "      running_loss = 0\n",
        "      running_frac_pos_triplets = 0"
      ],
      "execution_count": null,
      "outputs": []
    },
    {
      "cell_type": "code",
      "metadata": {
        "id": "rWwUJ9IkcEmq"
      },
      "source": [
        "def imshow(img,text=None,should_save= False):\n",
        "  npimg = img.cpu().numpy()\n",
        "  plt.axis(\"off\")\n",
        "  if text:\n",
        "    plt.text(75,8,text,style='italic',fontweight='bold',bbox={'facecolor':'white','alpha':0.8,'pad':10})\n",
        "  plt.imshow(np.transpose(npimg,(1,2,0)))\n",
        "  plt.show()\n",
        "  "
      ],
      "execution_count": null,
      "outputs": []
    },
    {
      "cell_type": "code",
      "metadata": {
        "id": "5OO0cD7Of64A"
      },
      "source": [
        "def save(model,epoch,save_dir,file_name):\n",
        "  file_name = 'epoch_'+str(epoch)+'_'+file_name\n",
        "  save_path =os.path.join(save_dir,file_name)\n",
        "  torch.save(model.state_dict(),save_path)"
      ],
      "execution_count": null,
      "outputs": []
    },
    {
      "cell_type": "code",
      "metadata": {
        "colab": {
          "base_uri": "https://localhost:8080/"
        },
        "id": "scWKE9nPGUTP",
        "outputId": "57904648-b7f6-46db-c860-4a8675300149"
      },
      "source": [
        "\n",
        "folder_dataset_train = dset.ImageFolder(root=root_train)\n",
        "#folder_dataset_test = dset.ImageFolder(root=\"/content/drive/My Drive/ColabNotebooks/DataProcessed/Nyla_Data/val\")\n",
        "\n",
        "#train_dataset = OnlineTripletDataset(imageFolderDataset=folder_dataset_train,transform=transforms.Compose([transforms.Resize(128),transforms.CenterCrop(124),transforms.ToTensor()]),should_invert=False)\n",
        "#test_dataset= OnlineTripletDataset(imageFolderDataset=folder_dataset_test,transform=transforms.Compose([transforms.Resize(28),transforms.CenterCrop(124),transforms.ToTensor(),transforms.Normalize([0.485,0.456,0.406],[0.229,0.224,0.225])]),should_invert=False)\n",
        "train_dataset = OnlineTripletDataset(imageFolderDataset=folder_dataset_train,transform=transforms.Compose([transforms.Resize(128),transforms.CenterCrop(124),transforms.ToTensor()]),should_invert=False) \n",
        "#train_dataset._len_()\n",
        "targets = train_dataset.targets\n",
        "print(\"Total targets = \"+str(len(targets)))\n",
        "train_dataloader = DataLoader(train_dataset,num_workers =2,batch_size=6)"
      ],
      "execution_count": null,
      "outputs": [
        {
          "output_type": "stream",
          "text": [
            "Total targets = 45\n"
          ],
          "name": "stdout"
        }
      ]
    },
    {
      "cell_type": "code",
      "metadata": {
        "colab": {
          "base_uri": "https://localhost:8080/"
        },
        "id": "6GqhQ7-2_iPu",
        "outputId": "41a8bfd2-581c-4d6f-ebe8-f0491fdf7fe8"
      },
      "source": [
        "folder_dataset_test = dset.ImageFolder(root=root_test)\n",
        "#folder_dataset_test = dset.ImageFolder(root=\"/content/drive/My Drive/ColabNotebooks/DataProcessed/Lion_Data/val\")\n",
        "\n",
        "#train_dataset = OnlineTripletDataset(imageFolderDataset=folder_dataset_train,transform=transforms.Compose([transforms.Resize(28),transforms.CenterCrop(24),transforms.ToTensor()]),should_invert=False)\n",
        "test_dataset= OnlineTripletDataset(imageFolderDataset=folder_dataset_test,transform=transforms.Compose([transforms.Resize(128),transforms.CenterCrop(124),transforms.ToTensor(),transforms.Normalize([0.485,0.456,0.406],[0.229,0.224,0.225])]),should_invert=False)\n",
        "#test_dataset._len_()\n",
        "test_dataloader = DataLoader(test_dataset,num_workers=2,batch_size=6,shuffle=False) \n",
        "\n",
        "targets_test = test_dataset.targets\n",
        "print(\"targets test \",str(len(targets_test)))\n",
        "device = torch.device('cuda')\n"
      ],
      "execution_count": null,
      "outputs": [
        {
          "output_type": "stream",
          "text": [
            "targets test  41\n"
          ],
          "name": "stdout"
        }
      ]
    },
    {
      "cell_type": "code",
      "metadata": {
        "colab": {
          "base_uri": "https://localhost:8080/"
        },
        "id": "befrcc4eW_CL",
        "outputId": "18b5d218-d7d9-4def-b2eb-fa9a227aa390"
      },
      "source": [
        "backbone_name = [\"resnet18\",\"resnet34\",\"resnet50\",\"resnet101\",\"resnet152\",\"VGG19\",\"VGG11\",\"densenet121\",\"densenet201\"]\n",
        "feature_extract =True\n",
        "extract_or_fine_tune=[\"tune\",\"extr\"]\n",
        "dataset_used=\"Zebra_img\"\n",
        "backbone = backbone_name[8]\n",
        "mode_train =extract_or_fine_tune[feature_extract]\n",
        "\n",
        "dim = [32,64,128,256,512]\n",
        "dim_embedd=dim[1]\n",
        "saved_model=backbone+mode_train+str(dim_embedd)+dataset_used+\".pt\"\n",
        "print(saved_model)"
      ],
      "execution_count": null,
      "outputs": [
        {
          "output_type": "stream",
          "text": [
            "densenet201extr64Zebra_img.pt\n"
          ],
          "name": "stdout"
        }
      ]
    },
    {
      "cell_type": "code",
      "metadata": {
        "id": "dvFTBuOZg51g"
      },
      "source": [
        "def get_all_embeddings(dataset,model):\n",
        "  tester = testers.BaseTester()\n",
        "  return tester.get_all_embeddings(dataset,model)"
      ],
      "execution_count": null,
      "outputs": []
    },
    {
      "cell_type": "code",
      "metadata": {
        "id": "CAgpiYKng6jg"
      },
      "source": [
        "def test(test1_samples,test2_samples,model,accuracy_calculator):\n",
        "  test1_embeddings,test1_labels = get_all_embeddings(test1_samples,model)\n",
        "  test2_embeddings,test2_labels = get_all_embeddings(test2_samples,model)\n",
        "  accuracies = accuracy_calculator.get_accuracy(test1_embeddings,test2_embeddings,np.squeeze(test1_labels),np.squeeze(test2_labels),False)\n",
        "   \n",
        "  print(\"MAP \",accuracies[\"mean_average_precision\"],\"MAP@R \",accuracies[\"mean_average_precision_at_r\"])"
      ],
      "execution_count": null,
      "outputs": []
    },
    {
      "cell_type": "code",
      "metadata": {
        "id": "fmysnzus_ej7"
      },
      "source": [
        "\n",
        "def test_epoch(model,criterion,loss_optimizer,data_loader,device,epoch,print_freq):\n",
        "  model.eval()\n",
        "  model.to(device)\n",
        "  running_loss = 0;\n",
        "  running_frac_pos_triplets= 0\n",
        "  model_string = animal_root+\"epoch_\"+str(epoch)+\"_\"+saved_model\n",
        "  model.load_state_dict(torch.load(model_string))\n",
        "  test_iterator.append(epoch)\n",
        "  for i, data in enumerate(data_loader):\n",
        "    samples, targets = data[0].to(device),data[1].to(device)\n",
        "    targets = torch.flatten(targets)\n",
        "    embeddings = model(samples) \n",
        "    loss = criterion(embeddings,targets)\n",
        "    loss_optimizer.step()\n",
        "    running_loss +=loss.item()\n",
        "    if i%print_freq ==print_freq-1:\n",
        "      i+=1\n",
        "      avg_loss = running_loss/print_freq\n",
        "      test_loss.append(avg_loss)\n",
        "      print('[{:d}, {:d}] | loss: {:.4f}'.format(epoch, i, avg_loss))\n",
        "      running_loss = 0\n",
        "      running_frac_pos_triplets = 0"
      ],
      "execution_count": null,
      "outputs": []
    },
    {
      "cell_type": "code",
      "metadata": {
        "id": "lGCKEVVg7RSk",
        "colab": {
          "base_uri": "https://localhost:8080/"
        },
        "outputId": "fd2f00b7-0f6e-45c2-c2e7-53f790c93043"
      },
      "source": [
        "test_loss = []\n",
        "test_iterator = []\n",
        "device = torch.device('cuda:0')\n",
        "#def __init__(self,model_name,num_classes,feature_extrating,use_pretrained):\n",
        "feature_extract = True \n",
        "#using model as a feature extractor... not fineturning all layers\n",
        "model = EmbeddingNet(backbone,dim_embedd,feature_extract,True)\n",
        "model.to(device)\n",
        "params_to_update = model.parameters()\n",
        "if feature_extract:\n",
        "  params_to_update= []\n",
        "  for name, param in model.named_parameters():\n",
        "    if param.requires_grad==True:\n",
        "      params_to_update.append(param)\n",
        "      print(\"\\t\",name)\n",
        "else:\n",
        "  for name,param in model.named_parameters():\n",
        "    if param.requires_grad==True:\n",
        "      print(\"\\t\",name)\n",
        "\n",
        "print_freq = 150\n",
        "criterion = losses.ProxyNCALoss(45,dim_embedd,softmax_scale=1) # hyper parameter margin can be changed\n",
        "optimizer = Adam(params_to_update,lr=0.0001)\n",
        "loss_optimizer = Adam(criterion.parameters(),lr=0.0001)\n",
        "for epoch in range(1,31):\n",
        "  print('Training...',backbone,mode_train)\n",
        "  train_epoch(model,optimizer,loss_optimizer,criterion,train_dataloader,device,epoch,print_freq)\n",
        "  save(model,epoch,animal_root,saved_model)"
      ],
      "execution_count": null,
      "outputs": [
        {
          "output_type": "stream",
          "text": [
            "\t backbone.classifier.weight\n",
            "\t backbone.classifier.bias\n",
            "Training... densenet201 extr\n",
            "[1, 150] | loss: 3.6656\n",
            "Training... densenet201 extr\n",
            "[2, 150] | loss: 3.3504\n",
            "Training... densenet201 extr\n",
            "[3, 150] | loss: 3.1356\n",
            "Training... densenet201 extr\n",
            "[4, 150] | loss: 3.0119\n",
            "Training... densenet201 extr\n",
            "[5, 150] | loss: 2.9237\n",
            "Training... densenet201 extr\n",
            "[6, 150] | loss: 2.8487\n",
            "Training... densenet201 extr\n",
            "[7, 150] | loss: 2.7884\n",
            "Training... densenet201 extr\n",
            "[8, 150] | loss: 2.7647\n",
            "Training... densenet201 extr\n",
            "[9, 150] | loss: 2.7222\n",
            "Training... densenet201 extr\n",
            "[10, 150] | loss: 2.7102\n",
            "Training... densenet201 extr\n",
            "[11, 150] | loss: 2.6590\n",
            "Training... densenet201 extr\n",
            "[12, 150] | loss: 2.6327\n",
            "Training... densenet201 extr\n",
            "[13, 150] | loss: 2.6222\n",
            "Training... densenet201 extr\n",
            "[14, 150] | loss: 2.6054\n",
            "Training... densenet201 extr\n",
            "[15, 150] | loss: 2.5772\n",
            "Training... densenet201 extr\n",
            "[16, 150] | loss: 2.5757\n",
            "Training... densenet201 extr\n",
            "[17, 150] | loss: 2.5589\n",
            "Training... densenet201 extr\n",
            "[18, 150] | loss: 2.5447\n",
            "Training... densenet201 extr\n",
            "[19, 150] | loss: 2.5334\n",
            "Training... densenet201 extr\n",
            "[20, 150] | loss: 2.5169\n",
            "Training... densenet201 extr\n",
            "[21, 150] | loss: 2.5121\n",
            "Training... densenet201 extr\n",
            "[22, 150] | loss: 2.5241\n",
            "Training... densenet201 extr\n",
            "[23, 150] | loss: 2.5147\n",
            "Training... densenet201 extr\n",
            "[24, 150] | loss: 2.4664\n",
            "Training... densenet201 extr\n",
            "[25, 150] | loss: 2.4941\n",
            "Training... densenet201 extr\n",
            "[26, 150] | loss: 2.4791\n",
            "Training... densenet201 extr\n",
            "[27, 150] | loss: 2.4769\n",
            "Training... densenet201 extr\n",
            "[28, 150] | loss: 2.4671\n",
            "Training... densenet201 extr\n",
            "[29, 150] | loss: 2.4730\n",
            "Training... densenet201 extr\n",
            "[30, 150] | loss: 2.4781\n"
          ],
          "name": "stdout"
        }
      ]
    },
    {
      "cell_type": "code",
      "metadata": {
        "id": "bq--BGehX3mS",
        "colab": {
          "base_uri": "https://localhost:8080/",
          "height": 1000
        },
        "outputId": "9fb93ab0-d4ea-406e-ad2a-3a94eb1e1e49"
      },
      "source": [
        "feature_extract = False \n",
        "#using model as a feature extractor... not fineturning all layers\n",
        "model = EmbeddingNet(backbone,dim_embedd,feature_extract,True)\n",
        "#model = EmbeddingNet(\"VGG19\",)\n",
        "criterion = losses.ProxyNCALoss(41,dim_embedd,softmax_scale=1)\n",
        "loss_optimizer = Adam(criterion.parameters(),lr=0.01) \n",
        "print_freq = 40\n",
        "for epoch in range(1,31):\n",
        "  print('Testing ...',backbone,mode_train)\n",
        "  test_epoch(model,criterion,loss_optimizer,test_dataloader,device,epoch,print_freq)    \n",
        "show_plot_two(test_iterator,train_loss,test_loss,\"train\",\"validate\",\"Triplet loss\")"
      ],
      "execution_count": null,
      "outputs": [
        {
          "output_type": "stream",
          "text": [
            "Testing ... densenet201 extr\n",
            "[1, 40] | loss: 3.7157\n",
            "Testing ... densenet201 extr\n",
            "[2, 40] | loss: 3.7180\n",
            "Testing ... densenet201 extr\n",
            "[3, 40] | loss: 3.7339\n",
            "Testing ... densenet201 extr\n",
            "[4, 40] | loss: 3.7186\n",
            "Testing ... densenet201 extr\n",
            "[5, 40] | loss: 3.7207\n",
            "Testing ... densenet201 extr\n",
            "[6, 40] | loss: 3.7738\n",
            "Testing ... densenet201 extr\n",
            "[7, 40] | loss: 3.7372\n",
            "Testing ... densenet201 extr\n",
            "[8, 40] | loss: 3.7371\n",
            "Testing ... densenet201 extr\n",
            "[9, 40] | loss: 3.7447\n",
            "Testing ... densenet201 extr\n",
            "[10, 40] | loss: 3.7329\n",
            "Testing ... densenet201 extr\n",
            "[11, 40] | loss: 3.7403\n",
            "Testing ... densenet201 extr\n",
            "[12, 40] | loss: 3.7926\n",
            "Testing ... densenet201 extr\n",
            "[13, 40] | loss: 3.7314\n",
            "Testing ... densenet201 extr\n",
            "[14, 40] | loss: 3.7503\n",
            "Testing ... densenet201 extr\n",
            "[15, 40] | loss: 3.7509\n",
            "Testing ... densenet201 extr\n",
            "[16, 40] | loss: 3.7879\n",
            "Testing ... densenet201 extr\n",
            "[17, 40] | loss: 3.7587\n",
            "Testing ... densenet201 extr\n",
            "[18, 40] | loss: 3.7501\n",
            "Testing ... densenet201 extr\n",
            "[19, 40] | loss: 3.7620\n",
            "Testing ... densenet201 extr\n",
            "[20, 40] | loss: 3.7428\n",
            "Testing ... densenet201 extr\n",
            "[21, 40] | loss: 3.7742\n",
            "Testing ... densenet201 extr\n",
            "[22, 40] | loss: 3.7676\n",
            "Testing ... densenet201 extr\n",
            "[23, 40] | loss: 3.7902\n",
            "Testing ... densenet201 extr\n",
            "[24, 40] | loss: 3.7757\n",
            "Testing ... densenet201 extr\n",
            "[25, 40] | loss: 3.7951\n",
            "Testing ... densenet201 extr\n",
            "[26, 40] | loss: 3.7918\n",
            "Testing ... densenet201 extr\n",
            "[27, 40] | loss: 3.7858\n",
            "Testing ... densenet201 extr\n",
            "[28, 40] | loss: 3.7530\n",
            "Testing ... densenet201 extr\n",
            "[29, 40] | loss: 3.7770\n",
            "Testing ... densenet201 extr\n",
            "[30, 40] | loss: 3.7830\n"
          ],
          "name": "stdout"
        },
        {
          "output_type": "display_data",
          "data": {
            "image/png": "[encoded data removed]",
            "text/plain": [
              "<Figure size 432x288 with 1 Axes>"
            ]
          },
          "metadata": {
            "tags": [],
            "needs_background": "light"
          }
        }
      ]
    },
    {
      "cell_type": "code",
      "metadata": {
        "id": "giX64r8uh_Dq",
        "colab": {
          "base_uri": "https://localhost:8080/"
        },
        "outputId": "5643aea5-6329-4d04-87c1-4f2c2c49a130"
      },
      "source": [
        "print(\"Evaluating model\",backbone,mode_train)\n",
        "test_dataset1= OnlineTripletDataset(imageFolderDataset=folder_dataset_test,transform=transforms.Compose([transforms.Resize(128),transforms.CenterCrop(124),transforms.ToTensor(),transforms.Normalize([0.485,0.456,0.406],[0.229,0.224,0.225])]),should_invert=False)\n",
        "test_dataset2= OnlineTripletDataset(imageFolderDataset=folder_dataset_test,transform=transforms.Compose([transforms.Resize(128),transforms.CenterCrop(124),transforms.ToTensor(),transforms.Normalize([0.485,0.456,0.406],[0.229,0.224,0.225])]),should_invert=False)\n",
        "\n",
        "accuracy_calculator = AccuracyCalculator(include = (\"mean_average_precision\",\"mean_average_precision_at_r\",),k=None)\n",
        "accuracy_calculator2 = AccuracyCalculator(include = (\"mean_average_precision\",\"mean_average_precision_at_r\",),k=1)\n",
        "model = EmbeddingNet(backbone,dim_embedd,False,True)\n",
        "model.to(device)\n",
        "model_string = animal_root+\"epoch_\"+str(30)+\"_\"+saved_model\n",
        "model.load_state_dict(torch.load(model_string))\n",
        "test(test_dataset1,test_dataset2,model,accuracy_calculator)\n",
        "print(\" ---------------   Evaluate model at k =1 --------------------------------------\")\n",
        "test(test_dataset1,test_dataset2,model,accuracy_calculator2)"
      ],
      "execution_count": null,
      "outputs": [
        {
          "output_type": "stream",
          "text": [
            "Evaluating model densenet201 extr\n"
          ],
          "name": "stdout"
        },
        {
          "output_type": "stream",
          "text": [
            "/usr/local/lib/python3.7/dist-packages/torch/utils/data/dataloader.py:477: UserWarning: This DataLoader will create 32 worker processes in total. Our suggested max number of worker in current system is 2, which is smaller than what this DataLoader is going to create. Please be aware that excessive worker creation might get DataLoader running slow or even freeze, lower the worker number to avoid potential slowness/freeze if necessary.\n",
            "  cpuset_checked))\n",
            "100%|██████████| 10/10 [00:09<00:00,  1.09it/s]\n",
            "100%|██████████| 10/10 [00:08<00:00,  1.12it/s]\n",
            "  0%|          | 0/10 [00:00<?, ?it/s]"
          ],
          "name": "stderr"
        },
        {
          "output_type": "stream",
          "text": [
            "MAP  0.37617605089030115 MAP@R  0.27975702325905527\n",
            " ---------------   Evaluate model at k =1 --------------------------------------\n"
          ],
          "name": "stdout"
        },
        {
          "output_type": "stream",
          "text": [
            "100%|██████████| 10/10 [00:09<00:00,  1.09it/s]\n",
            "100%|██████████| 10/10 [00:08<00:00,  1.11it/s]"
          ],
          "name": "stderr"
        },
        {
          "output_type": "stream",
          "text": [
            "MAP  0.7876712328767123 MAP@R  0.7876712328767123\n"
          ],
          "name": "stdout"
        },
        {
          "output_type": "stream",
          "text": [
            "\n"
          ],
          "name": "stderr"
        }
      ]
    },
    {
      "cell_type": "code",
      "metadata": {
        "id": "0L4q6r--SljD"
      },
      "source": [
        "mydir =animal_root\n",
        "for f in os.listdir(mydir):\n",
        "    if not f.endswith(\".pt\"):\n",
        "        continue\n",
        "    os.remove(os.path.join(mydir, f))"
      ],
      "execution_count": null,
      "outputs": []
    }
  ]
}